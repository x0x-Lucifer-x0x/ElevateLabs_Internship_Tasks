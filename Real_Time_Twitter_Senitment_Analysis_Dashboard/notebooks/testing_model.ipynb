{
 "cells": [
  {
   "cell_type": "code",
   "execution_count": 2,
   "id": "8bc2a553",
   "metadata": {},
   "outputs": [],
   "source": [
    "import joblib\n",
    "import re\n",
    "import matplotlib.pyplot as plt\n",
    "import seaborn as sns"
   ]
  },
  {
   "cell_type": "code",
   "execution_count": 3,
   "id": "f28a97b5",
   "metadata": {},
   "outputs": [],
   "source": [
    "model = joblib.load('A:\\\\V5C0D3\\\\Internship_Tasks\\\\Real-Time Twitter Senitment Analysis Dashboard\\\\model\\\\linear_svc_model.pkl')\n",
    "vectorizer = joblib.load('A:\\\\V5C0D3\\\\Internship_Tasks\\\\Real-Time Twitter Senitment Analysis Dashboard\\\\model\\\\tfidf_vectorizer.pkl')"
   ]
  },
  {
   "cell_type": "code",
   "execution_count": null,
   "id": "f19cb85f",
   "metadata": {},
   "outputs": [
    {
     "name": "stdout",
     "output_type": "stream",
     "text": [
      "I hate how this works: 0\n",
      "Absolutely amazing experience: 1\n",
      "You are a loser: 1\n"
     ]
    }
   ],
   "source": [
    "def preprocess_text(text):\n",
    "    text = text.lower()\n",
    "    text = re.sub(r\"http\\S+|www\\S+\", \"\", text)  # remove URLs\n",
    "    text = re.sub(r\"[^\\w\\s]\", \"\", text)         # remove punctuation\n",
    "    text = re.sub(r\"\\d+\", \"\", text)             # remove digits\n",
    "    text = re.sub(r\"\\s+\", \" \", text).strip()    # normalize whitespace\n",
    "    return text\n",
    "\n",
    "# 0 - Postitive\n",
    "# 1 - Negative\n",
    "\n",
    "text = [\"I hate how this works\", \"Absolutely amazing experience\",\"You are a loser\"]\n",
    "cleaned = [preprocess_text(t) for t in text]\n",
    "X = vectorizer.transform(cleaned)\n",
    "predictions = model.predict(X)\n",
    "for i in range(len(text)):\n",
    "    print(text[i] + \": \" + str(predictions[i]))\n"
   ]
  },
  {
   "cell_type": "code",
   "execution_count": null,
   "id": "4399af23",
   "metadata": {},
   "outputs": [],
   "source": []
  }
 ],
 "metadata": {
  "kernelspec": {
   "display_name": "Python 3",
   "language": "python",
   "name": "python3"
  },
  "language_info": {
   "codemirror_mode": {
    "name": "ipython",
    "version": 3
   },
   "file_extension": ".py",
   "mimetype": "text/x-python",
   "name": "python",
   "nbconvert_exporter": "python",
   "pygments_lexer": "ipython3",
   "version": "3.13.0"
  }
 },
 "nbformat": 4,
 "nbformat_minor": 5
}
