{
 "cells": [
  {
   "cell_type": "markdown",
   "id": "52eaf3d4",
   "metadata": {},
   "source": [
    "# Creating a Custome Database"
   ]
  },
  {
   "cell_type": "code",
   "execution_count": 9,
   "id": "c7ddf6a8",
   "metadata": {},
   "outputs": [],
   "source": [
    "import sqlite3\n",
    "\n",
    "conn = sqlite3.connect(\"sales_data.db\")\n",
    "cursor = conn.cursor()\n",
    "\n",
    "# Create tables\n",
    "cursor.execute(\"DROP TABLE IF EXISTS sales\")\n",
    "cursor.execute(\"DROP TABLE IF EXISTS products\")\n",
    "cursor.execute(\"DROP TABLE IF EXISTS customers\")\n",
    "cursor.execute(\"DROP TABLE IF EXISTS categories\")\n",
    "\n",
    "cursor.execute(\"\"\"\n",
    "CREATE TABLE categories (\n",
    "    category_id INTEGER PRIMARY KEY,\n",
    "    category_name TEXT\n",
    ")\n",
    "\"\"\")\n",
    "\n",
    "cursor.execute(\"\"\"\n",
    "CREATE TABLE products (\n",
    "    product_id INTEGER PRIMARY KEY,\n",
    "    name TEXT,\n",
    "    price REAL,\n",
    "    category_id INTEGER,\n",
    "    FOREIGN KEY (category_id) REFERENCES categories(category_id)\n",
    ")\n",
    "\"\"\")\n",
    "\n",
    "cursor.execute(\"\"\"\n",
    "CREATE TABLE customers (\n",
    "    customer_id INTEGER PRIMARY KEY,\n",
    "    name TEXT,\n",
    "    region TEXT\n",
    ")\n",
    "\"\"\")\n",
    "\n",
    "cursor.execute(\"\"\"\n",
    "CREATE TABLE sales (\n",
    "    sale_id INTEGER PRIMARY KEY,\n",
    "    product_id INTEGER,\n",
    "    customer_id INTEGER,\n",
    "    quantity INTEGER,\n",
    "    sale_date TEXT,\n",
    "    FOREIGN KEY (product_id) REFERENCES products(product_id),\n",
    "    FOREIGN KEY (customer_id) REFERENCES customers(customer_id)\n",
    ")\n",
    "\"\"\")\n",
    "\n",
    "# Insert categories\n",
    "cursor.executemany(\"INSERT INTO categories (category_name) VALUES (?)\", [\n",
    "    (\"Fruits\",),\n",
    "    (\"Beverages\",),\n",
    "    (\"Snacks\",)\n",
    "])\n",
    "\n",
    "# Insert products\n",
    "cursor.executemany(\"INSERT INTO products (name, price, category_id) VALUES (?, ?, ?)\", [\n",
    "    (\"Apple\", 2.0, 1),\n",
    "    (\"Orange\", 1.5, 1),\n",
    "    (\"Banana\", 1.0, 1),\n",
    "    (\"Juice\", 3.0, 2),\n",
    "    (\"Soda\", 2.5, 2),\n",
    "    (\"Chips\", 2.0, 3),\n",
    "])\n",
    "\n",
    "# Insert customers\n",
    "cursor.executemany(\"INSERT INTO customers (name, region) VALUES (?, ?)\", [\n",
    "    (\"Alice\", \"North\"),\n",
    "    (\"Bob\", \"South\"),\n",
    "    (\"Charlie\", \"East\"),\n",
    "    (\"David\", \"West\")\n",
    "])\n",
    "\n",
    "# Insert sales\n",
    "cursor.executemany(\"INSERT INTO sales (product_id, customer_id, quantity, sale_date) VALUES (?, ?, ?, ?)\", [\n",
    "    (1, 1, 10, \"2025-04-01\"),\n",
    "    (2, 2, 5, \"2025-04-01\"),\n",
    "    (3, 3, 8, \"2025-04-02\"),\n",
    "    (4, 1, 3, \"2025-04-02\"),\n",
    "    (5, 4, 6, \"2025-04-03\"),\n",
    "    (6, 2, 7, \"2025-04-03\"),\n",
    "    (1, 3, 5, \"2025-04-04\"),\n",
    "    (2, 4, 6, \"2025-04-04\"),\n",
    "    (5, 1, 2, \"2025-04-05\"),\n",
    "    (3, 2, 10, \"2025-04-05\"),\n",
    "])\n",
    "\n",
    "conn.commit()\n",
    "conn.close()\n"
   ]
  },
  {
   "cell_type": "markdown",
   "id": "d482a654",
   "metadata": {},
   "source": [
    "# Display the Tables in Database"
   ]
  },
  {
   "cell_type": "code",
   "execution_count": 10,
   "id": "13cee6ca",
   "metadata": {},
   "outputs": [
    {
     "name": "stdout",
     "output_type": "stream",
     "text": [
      "Tables in the database:\n",
      "    type        name    tbl_name  rootpage  \\\n",
      "0  table  categories  categories         2   \n",
      "1  table    products    products         3   \n",
      "2  table   customers   customers         4   \n",
      "3  table       sales       sales         5   \n",
      "\n",
      "                                                 sql  \n",
      "0  CREATE TABLE categories (\\n    category_id INT...  \n",
      "1  CREATE TABLE products (\\n    product_id INTEGE...  \n",
      "2  CREATE TABLE customers (\\n    customer_id INTE...  \n",
      "3  CREATE TABLE sales (\\n    sale_id INTEGER PRIM...  \n"
     ]
    }
   ],
   "source": [
    "import sqlite3\n",
    "import pandas as pd\n",
    "\n",
    "conn = sqlite3.connect(\"sales_data.db\")\n",
    "\n",
    "query = \"SELECT * FROM sqlite_master;\"\n",
    "df = pd.read_sql_query(query, conn)\n",
    "print(\"Tables in the database:\")\n",
    "print(df)\n"
   ]
  },
  {
   "cell_type": "markdown",
   "id": "eeae480d",
   "metadata": {},
   "source": [
    "# Display Data with Pandas"
   ]
  },
  {
   "cell_type": "code",
   "execution_count": 11,
   "id": "b5988f17",
   "metadata": {},
   "outputs": [
    {
     "name": "stdout",
     "output_type": "stream",
     "text": [
      "  product  total_quantity  revenue\n",
      "0   Apple              15     30.0\n",
      "1    Soda               8     20.0\n",
      "2  Banana              18     18.0\n",
      "3  Orange              11     16.5\n",
      "4   Chips               7     14.0\n",
      "5   Juice               3      9.0\n"
     ]
    },
    {
     "data": {
      "image/png": "[encoded data removed]",
      "text/plain": [
       "<Figure size 640x480 with 1 Axes>"
      ]
     },
     "metadata": {},
     "output_type": "display_data"
    }
   ],
   "source": [
    "import pandas as pd\n",
    "import matplotlib.pyplot as plt\n",
    "import sqlite3\n",
    "\n",
    "# Connect to the updated DB\n",
    "conn = sqlite3.connect(\"sales_data.db\")\n",
    "\n",
    "# Modified Query with JOINs\n",
    "query = \"\"\"\n",
    "SELECT p.name AS product,\n",
    "       SUM(s.quantity) AS total_quantity,\n",
    "       SUM(s.quantity * p.price) AS revenue\n",
    "        FROM sales s\n",
    "        JOIN products p ON s.product_id = p.product_id\n",
    "        GROUP BY p.name\n",
    "        ORDER BY revenue DESC\n",
    "\"\"\"\n",
    "\n",
    "# Load results into DataFrame\n",
    "df = pd.read_sql_query(query, conn)\n",
    "print(df)\n",
    "\n",
    "# Plot Revenue by Product\n",
    "df.plot(kind='bar', x='product', y='revenue', legend=False, color='skyblue')\n",
    "plt.title(\"Revenue by Product\")\n",
    "plt.ylabel(\"Revenue\")\n",
    "plt.xlabel(\"Product\")\n",
    "plt.tight_layout()\n",
    "plt.savefig(\"sales_chart.png\")\n",
    "plt.show()\n"
   ]
  },
  {
   "cell_type": "markdown",
   "id": "194d1524",
   "metadata": {},
   "source": [
    "# Total Revenue by Product and Category\n"
   ]
  },
  {
   "cell_type": "code",
   "execution_count": 12,
   "id": "04593fb7",
   "metadata": {},
   "outputs": [
    {
     "name": "stdout",
     "output_type": "stream",
     "text": [
      "  product category_name  revenue\n",
      "0   Apple        Fruits     30.0\n",
      "1    Soda     Beverages     20.0\n",
      "2  Banana        Fruits     18.0\n",
      "3  Orange        Fruits     16.5\n",
      "4   Chips        Snacks     14.0\n",
      "5   Juice     Beverages      9.0\n"
     ]
    }
   ],
   "source": [
    "import sqlite3\n",
    "\n",
    "# Connect to the updated DB\n",
    "conn = sqlite3.connect(\"sales_data.db\")\n",
    "\n",
    "query = \"\"\"\n",
    "       SELECT p.name AS product, \n",
    "       c.category_name,\n",
    "       SUM(s.quantity * p.price) AS revenue\n",
    "       FROM sales s\n",
    "       JOIN products p ON s.product_id = p.product_id\n",
    "       JOIN categories c ON p.category_id = c.category_id\n",
    "       GROUP BY p.name\n",
    "       ORDER BY revenue DESC\n",
    " \"\"\"\n",
    "\n",
    "df = pd.read_sql_query(query, conn)\n",
    "print(df)\n"
   ]
  },
  {
   "cell_type": "markdown",
   "id": "a189a6c2",
   "metadata": {},
   "source": [
    "#  Top 3 Customers by Total Purchase Value"
   ]
  },
  {
   "cell_type": "code",
   "execution_count": 13,
   "id": "37dd2a6c",
   "metadata": {},
   "outputs": [
    {
     "name": "stdout",
     "output_type": "stream",
     "text": [
      "  customer  total_spent\n",
      "0    Alice         34.0\n",
      "1      Bob         31.5\n",
      "2    David         24.0\n"
     ]
    }
   ],
   "source": [
    "import sqlite3\n",
    "\n",
    "# Connect to the updated DB\n",
    "conn = sqlite3.connect(\"sales_data.db\")\n",
    "\n",
    "query = \"\"\"\n",
    "        SELECT cu.name AS customer,\n",
    "        SUM(s.quantity * p.price) AS total_spent\n",
    "        FROM sales s\n",
    "        JOIN products p ON s.product_id = p.product_id\n",
    "        JOIN customers cu ON s.customer_id = cu.customer_id\n",
    "        GROUP BY cu.customer_id\n",
    "        ORDER BY total_spent DESC\n",
    "        LIMIT 3\n",
    "\n",
    " \"\"\"\n",
    "\n",
    "df = pd.read_sql_query(query, conn)\n",
    "print(df)\n"
   ]
  },
  {
   "cell_type": "markdown",
   "id": "67c7e6d0",
   "metadata": {},
   "source": [
    "# Daily Sales and Revenue Trend"
   ]
  },
  {
   "cell_type": "code",
   "execution_count": 14,
   "id": "9d220020",
   "metadata": {},
   "outputs": [
    {
     "name": "stdout",
     "output_type": "stream",
     "text": [
      "    sale_date  total_qty  total_revenue\n",
      "0  2025-04-01         15           27.5\n",
      "1  2025-04-02         11           17.0\n",
      "2  2025-04-03         13           29.0\n",
      "3  2025-04-04         11           19.0\n",
      "4  2025-04-05         12           15.0\n"
     ]
    }
   ],
   "source": [
    "import sqlite3\n",
    "\n",
    "# Connect to the updated DB\n",
    "conn = sqlite3.connect(\"sales_data.db\")\n",
    "\n",
    "query = \"\"\"\n",
    "        SELECT s.sale_date,\n",
    "       SUM(s.quantity) AS total_qty,\n",
    "       SUM(s.quantity * p.price) AS total_revenue\n",
    "        FROM sales s\n",
    "        JOIN products p ON s.product_id = p.product_id\n",
    "        GROUP BY s.sale_date\n",
    "        ORDER BY s.sale_date\n",
    "\n",
    "\n",
    " \"\"\"\n",
    "\n",
    "df = pd.read_sql_query(query, conn)\n",
    "print(df)"
   ]
  },
  {
   "cell_type": "markdown",
   "id": "b642a097",
   "metadata": {},
   "source": [
    "# Region-Wise Sales Performance"
   ]
  },
  {
   "cell_type": "code",
   "execution_count": null,
   "id": "e70fb019",
   "metadata": {},
   "outputs": [
    {
     "name": "stdout",
     "output_type": "stream",
     "text": [
      "  region  total_revenue\n",
      "0   East           18.0\n",
      "1  North           34.0\n",
      "2  South           31.5\n",
      "3   West           24.0\n"
     ]
    }
   ],
   "source": [
    "import sqlite3\n",
    "\n",
    "# Connect to the updated DB\n",
    "conn = sqlite3.connect(\"sales_data.db\")\n",
    "\n",
    "query = \"\"\"\n",
    "        SELECT cu.region,\n",
    "        SUM(s.quantity * p.price) AS total_revenue\n",
    "        FROM sales s\n",
    "        JOIN customers cu ON s.customer_id = cu.customer_id\n",
    "        JOIN products p ON s.product_id = p.product_id\n",
    "        GROUP BY cu.region\n",
    " \"\"\"\n",
    "\n",
    "df = pd.read_sql_query(query, conn)\n",
    "print(df)"
   ]
  },
  {
   "cell_type": "markdown",
   "id": "dbf15c37",
   "metadata": {},
   "source": [
    "# Most Popular Category (by quantity sold)"
   ]
  },
  {
   "cell_type": "code",
   "execution_count": 18,
   "id": "51ed5254",
   "metadata": {},
   "outputs": [
    {
     "name": "stdout",
     "output_type": "stream",
     "text": [
      "  category_name  total_sold\n",
      "0        Fruits          44\n"
     ]
    }
   ],
   "source": [
    "import sqlite3\n",
    "\n",
    "# Connect to the updated DB\n",
    "conn = sqlite3.connect(\"sales_data.db\")\n",
    "\n",
    "query = \"\"\"\n",
    "        SELECT cat.category_name,\n",
    "       SUM(s.quantity) AS total_sold\n",
    "        FROM sales s\n",
    "        JOIN products p ON s.product_id = p.product_id\n",
    "        JOIN categories cat ON p.category_id = cat.category_id\n",
    "        GROUP BY cat.category_id\n",
    "        ORDER BY total_sold DESC\n",
    "        LIMIT 1\n",
    " \"\"\"\n",
    "\n",
    "df = pd.read_sql_query(query, conn)\n",
    "print(df)"
   ]
  },
  {
   "cell_type": "markdown",
   "id": "fd70fac3",
   "metadata": {},
   "source": [
    "# Average Basket Size (items per transaction)"
   ]
  },
  {
   "cell_type": "code",
   "execution_count": 19,
   "id": "3c864ec0",
   "metadata": {},
   "outputs": [
    {
     "name": "stdout",
     "output_type": "stream",
     "text": [
      "   avg_basket_size\n",
      "0              6.2\n"
     ]
    }
   ],
   "source": [
    "import sqlite3\n",
    "\n",
    "# Connect to the updated DB\n",
    "conn = sqlite3.connect(\"sales_data.db\")\n",
    "\n",
    "query = \"\"\"\n",
    "        SELECT ROUND(AVG(quantity), 2) AS avg_basket_size\n",
    "        FROM sales\n",
    "\n",
    " \"\"\"\n",
    "\n",
    "df = pd.read_sql_query(query, conn)\n",
    "print(df)"
   ]
  },
  {
   "cell_type": "markdown",
   "id": "f4a1a559",
   "metadata": {},
   "source": [
    "# Monthly Revenue"
   ]
  },
  {
   "cell_type": "code",
   "execution_count": 20,
   "id": "6f5906a4",
   "metadata": {},
   "outputs": [
    {
     "name": "stdout",
     "output_type": "stream",
     "text": [
      "     month  monthly_revenue\n",
      "0  2025-04            107.5\n"
     ]
    }
   ],
   "source": [
    "import sqlite3\n",
    "\n",
    "# Connect to the updated DB\n",
    "conn = sqlite3.connect(\"sales_data.db\")\n",
    "\n",
    "query = \"\"\"\n",
    "        SELECT strftime('%Y-%m', sale_date) AS month,\n",
    "        SUM(s.quantity * p.price) AS monthly_revenue\n",
    "        FROM sales s\n",
    "        JOIN products p ON s.product_id = p.product_id\n",
    "        GROUP BY month\n",
    "        ORDER BY month\n",
    "\n",
    " \"\"\"\n",
    "\n",
    "df = pd.read_sql_query(query, conn)\n",
    "print(df)"
   ]
  }
 ],
 "metadata": {
  "kernelspec": {
   "display_name": "Python 3",
   "language": "python",
   "name": "python3"
  },
  "language_info": {
   "codemirror_mode": {
    "name": "ipython",
    "version": 3
   },
   "file_extension": ".py",
   "mimetype": "text/x-python",
   "name": "python",
   "nbconvert_exporter": "python",
   "pygments_lexer": "ipython3",
   "version": "3.13.0"
  }
 },
 "nbformat": 4,
 "nbformat_minor": 5
}
